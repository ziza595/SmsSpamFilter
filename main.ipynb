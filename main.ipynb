{
 "cells": [
  {
   "cell_type": "markdown",
   "id": "a61f8151-cda0-4a70-abf4-9668d9ac6cda",
   "metadata": {},
   "source": [
    "# 1. Chargement du jeu de données (dataset)"
   ]
  },
  {
   "cell_type": "code",
   "execution_count": 11,
   "id": "4f90ac07-a4eb-4f99-a24e-e4cdbefde976",
   "metadata": {},
   "outputs": [],
   "source": [
    "import pandas as pd"
   ]
  },
  {
   "cell_type": "code",
   "execution_count": 19,
   "id": "88efdc50-bfb1-4b1b-9169-fb72f0fae23c",
   "metadata": {},
   "outputs": [
    {
     "data": {
      "text/html": [
       "<div>\n",
       "<style scoped>\n",
       "    .dataframe tbody tr th:only-of-type {\n",
       "        vertical-align: middle;\n",
       "    }\n",
       "\n",
       "    .dataframe tbody tr th {\n",
       "        vertical-align: top;\n",
       "    }\n",
       "\n",
       "    .dataframe thead th {\n",
       "        text-align: right;\n",
       "    }\n",
       "</style>\n",
       "<table border=\"1\" class=\"dataframe\">\n",
       "  <thead>\n",
       "    <tr style=\"text-align: right;\">\n",
       "      <th></th>\n",
       "      <th>label</th>\n",
       "      <th>sms</th>\n",
       "    </tr>\n",
       "  </thead>\n",
       "  <tbody>\n",
       "    <tr>\n",
       "      <th>0</th>\n",
       "      <td>ham</td>\n",
       "      <td>Go until jurong point, crazy.. Available only ...</td>\n",
       "    </tr>\n",
       "    <tr>\n",
       "      <th>1</th>\n",
       "      <td>ham</td>\n",
       "      <td>Ok lar... Joking wif u oni...</td>\n",
       "    </tr>\n",
       "    <tr>\n",
       "      <th>2</th>\n",
       "      <td>spam</td>\n",
       "      <td>Free entry in 2 a wkly comp to win FA Cup fina...</td>\n",
       "    </tr>\n",
       "    <tr>\n",
       "      <th>3</th>\n",
       "      <td>ham</td>\n",
       "      <td>U dun say so early hor... U c already then say...</td>\n",
       "    </tr>\n",
       "    <tr>\n",
       "      <th>4</th>\n",
       "      <td>ham</td>\n",
       "      <td>Nah I don't think he goes to usf, he lives aro...</td>\n",
       "    </tr>\n",
       "    <tr>\n",
       "      <th>5</th>\n",
       "      <td>spam</td>\n",
       "      <td>FreeMsg Hey there darling it's been 3 week's n...</td>\n",
       "    </tr>\n",
       "    <tr>\n",
       "      <th>6</th>\n",
       "      <td>ham</td>\n",
       "      <td>Even my brother is not like to speak with me. ...</td>\n",
       "    </tr>\n",
       "    <tr>\n",
       "      <th>7</th>\n",
       "      <td>ham</td>\n",
       "      <td>As per your request 'Melle Melle (Oru Minnamin...</td>\n",
       "    </tr>\n",
       "    <tr>\n",
       "      <th>8</th>\n",
       "      <td>spam</td>\n",
       "      <td>WINNER!! As a valued network customer you have...</td>\n",
       "    </tr>\n",
       "    <tr>\n",
       "      <th>9</th>\n",
       "      <td>spam</td>\n",
       "      <td>Had your mobile 11 months or more? U R entitle...</td>\n",
       "    </tr>\n",
       "  </tbody>\n",
       "</table>\n",
       "</div>"
      ],
      "text/plain": [
       "  label                                                sms\n",
       "0   ham  Go until jurong point, crazy.. Available only ...\n",
       "1   ham                      Ok lar... Joking wif u oni...\n",
       "2  spam  Free entry in 2 a wkly comp to win FA Cup fina...\n",
       "3   ham  U dun say so early hor... U c already then say...\n",
       "4   ham  Nah I don't think he goes to usf, he lives aro...\n",
       "5  spam  FreeMsg Hey there darling it's been 3 week's n...\n",
       "6   ham  Even my brother is not like to speak with me. ...\n",
       "7   ham  As per your request 'Melle Melle (Oru Minnamin...\n",
       "8  spam  WINNER!! As a valued network customer you have...\n",
       "9  spam  Had your mobile 11 months or more? U R entitle..."
      ]
     },
     "execution_count": 19,
     "metadata": {},
     "output_type": "execute_result"
    }
   ],
   "source": [
    "data = pd.read_csv(\"SMSSpamCollection.txt\", sep=\"\\t\", header=None, names=[\"label\", \"sms\"])\n",
    "data.head(10)"
   ]
  },
  {
   "cell_type": "markdown",
   "id": "fb01412d-38f2-43bf-81f4-60ffef543201",
   "metadata": {},
   "source": [
    "# 2. Pré-traitement (Pre-processing)"
   ]
  },
  {
   "cell_type": "code",
   "execution_count": 20,
   "id": "5c142a3c-d13b-44df-bfb9-f3d4346f2ff0",
   "metadata": {},
   "outputs": [
    {
     "name": "stdout",
     "output_type": "stream",
     "text": [
      "Requirement already satisfied: nltk in /home/abdoulaziz/.local/lib/python3.8/site-packages (3.6.2)\n",
      "Requirement already satisfied: click in /home/abdoulaziz/.local/lib/python3.8/site-packages (from nltk) (8.0.1)\n",
      "Requirement already satisfied: joblib in /home/abdoulaziz/.local/lib/python3.8/site-packages (from nltk) (1.0.1)\n",
      "Requirement already satisfied: regex in /home/abdoulaziz/.local/lib/python3.8/site-packages (from nltk) (2021.4.4)\n",
      "Requirement already satisfied: tqdm in /home/abdoulaziz/.local/lib/python3.8/site-packages (from nltk) (4.61.1)\n"
     ]
    }
   ],
   "source": [
    "# intalling nltk module\n",
    "import sys\n",
    "!{sys.executable} -m pip install nltk"
   ]
  },
  {
   "cell_type": "code",
   "execution_count": 21,
   "id": "49796232-941e-4278-800a-ebea8e8a91fc",
   "metadata": {},
   "outputs": [
    {
     "name": "stdout",
     "output_type": "stream",
     "text": [
      "['i', 'me', 'my', 'myself', 'we']\n",
      "!\"#$%&'()*+,-./:;<=>?@[\\]^_`{|}~\n"
     ]
    },
    {
     "name": "stderr",
     "output_type": "stream",
     "text": [
      "[nltk_data] Downloading package stopwords to\n",
      "[nltk_data]     /home/abdoulaziz/nltk_data...\n",
      "[nltk_data]   Package stopwords is already up-to-date!\n",
      "[nltk_data] Downloading package punkt to /home/abdoulaziz/nltk_data...\n",
      "[nltk_data]   Package punkt is already up-to-date!\n"
     ]
    }
   ],
   "source": [
    "# charger les mots vides et la ponctuation\n",
    "import string\n",
    "import nltk\n",
    "\n",
    "nltk.download('stopwords')\n",
    "nltk.download('punkt')\n",
    "\n",
    "stopwords = nltk.corpus.stopwords.words('english')\n",
    "punctuation = string.punctuation\n",
    "\n",
    "print(stopwords[:5])\n",
    "print(punctuation)"
   ]
  },
  {
   "cell_type": "code",
   "execution_count": 27,
   "id": "cbef0fee-25c9-49f0-80f7-a526c300e8ce",
   "metadata": {},
   "outputs": [
    {
     "data": {
      "text/html": [
       "<div>\n",
       "<style scoped>\n",
       "    .dataframe tbody tr th:only-of-type {\n",
       "        vertical-align: middle;\n",
       "    }\n",
       "\n",
       "    .dataframe tbody tr th {\n",
       "        vertical-align: top;\n",
       "    }\n",
       "\n",
       "    .dataframe thead th {\n",
       "        text-align: right;\n",
       "    }\n",
       "</style>\n",
       "<table border=\"1\" class=\"dataframe\">\n",
       "  <thead>\n",
       "    <tr style=\"text-align: right;\">\n",
       "      <th></th>\n",
       "      <th>label</th>\n",
       "      <th>sms</th>\n",
       "      <th>processed</th>\n",
       "    </tr>\n",
       "  </thead>\n",
       "  <tbody>\n",
       "    <tr>\n",
       "      <th>0</th>\n",
       "      <td>ham</td>\n",
       "      <td>Go until jurong point, crazy.. Available only ...</td>\n",
       "      <td>[go, jurong, point, crazy, available, bugis, n...</td>\n",
       "    </tr>\n",
       "    <tr>\n",
       "      <th>1</th>\n",
       "      <td>ham</td>\n",
       "      <td>Ok lar... Joking wif u oni...</td>\n",
       "      <td>[ok, lar, joking, wif, u, oni]</td>\n",
       "    </tr>\n",
       "    <tr>\n",
       "      <th>2</th>\n",
       "      <td>spam</td>\n",
       "      <td>Free entry in 2 a wkly comp to win FA Cup fina...</td>\n",
       "      <td>[free, entry, 2, wkly, comp, win, fa, cup, fin...</td>\n",
       "    </tr>\n",
       "    <tr>\n",
       "      <th>3</th>\n",
       "      <td>ham</td>\n",
       "      <td>U dun say so early hor... U c already then say...</td>\n",
       "      <td>[u, dun, say, early, hor, u, c, already, say]</td>\n",
       "    </tr>\n",
       "    <tr>\n",
       "      <th>4</th>\n",
       "      <td>ham</td>\n",
       "      <td>Nah I don't think he goes to usf, he lives aro...</td>\n",
       "      <td>[nah, dont, think, goes, usf, lives, around, t...</td>\n",
       "    </tr>\n",
       "  </tbody>\n",
       "</table>\n",
       "</div>"
      ],
      "text/plain": [
       "  label                                                sms  \\\n",
       "0   ham  Go until jurong point, crazy.. Available only ...   \n",
       "1   ham                      Ok lar... Joking wif u oni...   \n",
       "2  spam  Free entry in 2 a wkly comp to win FA Cup fina...   \n",
       "3   ham  U dun say so early hor... U c already then say...   \n",
       "4   ham  Nah I don't think he goes to usf, he lives aro...   \n",
       "\n",
       "                                           processed  \n",
       "0  [go, jurong, point, crazy, available, bugis, n...  \n",
       "1                     [ok, lar, joking, wif, u, oni]  \n",
       "2  [free, entry, 2, wkly, comp, win, fa, cup, fin...  \n",
       "3      [u, dun, say, early, hor, u, c, already, say]  \n",
       "4  [nah, dont, think, goes, usf, lives, around, t...  "
      ]
     },
     "execution_count": 27,
     "metadata": {},
     "output_type": "execute_result"
    }
   ],
   "source": [
    "# pré-traiter le contenu des SMS\n",
    "def pre_process(sms):\n",
    "    lowercase = \"\".join([char.lower() for char in sms if char not in punctuation])\n",
    "    tokenize = nltk.tokenize.word_tokenize(lowercase)\n",
    "    remove_stopwords = [word for word in tokenize if word not in stopwords]\n",
    "    return remove_stopwords\n",
    "\n",
    "data['processed'] = data['sms'].apply(lambda x: pre_process(x))\n",
    "data.head()"
   ]
  },
  {
   "cell_type": "markdown",
   "id": "b380d49f-335e-4041-ab44-9282ada3ec46",
   "metadata": {},
   "source": [
    "# 3. Catégoriser et compter les jetons"
   ]
  },
  {
   "cell_type": "code",
   "execution_count": 39,
   "id": "594a8f68-c5bd-4532-8ae8-b6deed268fcd",
   "metadata": {},
   "outputs": [
    {
     "name": "stdout",
     "output_type": "stream",
     "text": [
      "['free', 'entry', '2', 'wkly', 'comp']\n",
      "['go', 'jurong', 'point', 'crazy', 'available']\n"
     ]
    }
   ],
   "source": [
    "# categorizing ham/spam associated words\n",
    "def categorize_words():\n",
    "    spam_words = []\n",
    "    ham_words = []\n",
    "    \n",
    "    # spam associated words\n",
    "    for sms in data['processed'][data['label'] == 'spam']:\n",
    "        for word in sms:\n",
    "            spam_words.append(word)\n",
    "            \n",
    "    # spam associated words\n",
    "    for sms in data['processed'][data['label'] == 'ham']:\n",
    "        for word in sms:\n",
    "            ham_words.append(word)\n",
    "            \n",
    "    return spam_words, ham_words\n",
    "\n",
    "spam_words, ham_words = categorize_words()\n",
    "print(spam_words[:5])\n",
    "print(ham_words[:5])"
   ]
  },
  {
   "cell_type": "markdown",
   "id": "758c7fb6-4c53-43f3-b071-599b48db07c5",
   "metadata": {},
   "source": [
    "# 4. Fonction de prédiction"
   ]
  },
  {
   "cell_type": "code",
   "execution_count": 52,
   "id": "18753a78-ff9a-4e67-8409-4af0387c2e94",
   "metadata": {},
   "outputs": [],
   "source": [
    "# itérer sur tous les mots de la saisie de l'utilisateur et compter leurs occurrences dans les mots ham_words et spam_words\n",
    "def predict(user_input):\n",
    "    spam_counter, ham_counter = 0, 0\n",
    "    \n",
    "    for word in user_input:\n",
    "        spam_counter += spam_words.count(word)\n",
    "        ham_counter += ham_words.count(word)\n",
    "        \n",
    "    print(\"**************** RESULTS ****************\")\n",
    "    if ham_counter > spam_counter:\n",
    "        # ajout de précision pour ham_counter\n",
    "        accuracy = round(ham_counter / (ham_counter + spam_counter) * 100, 2)\n",
    "        print(\"message is not spam with {}% accuracy\".format(accuracy))\n",
    "    elif spam_counter > ham_counter:\n",
    "        # ajout de précision pour spam_counter\n",
    "        accuracy = round(spam_counter / (ham_counter + spam_counter) * 100, 2)\n",
    "        print(\"message is spam with {}% accuracy\".format(accuracy))\n",
    "    else:\n",
    "        print(\"message could be spam with 50% accuracy\")"
   ]
  },
  {
   "cell_type": "markdown",
   "id": "91fdabc1-01dc-484e-af40-856d47704df2",
   "metadata": {},
   "source": [
    "# 5. Collecte des entrées utilisateur"
   ]
  },
  {
   "cell_type": "code",
   "execution_count": 47,
   "id": "06f60d24-0ae5-4bb4-9549-ee2577bdfa50",
   "metadata": {},
   "outputs": [
    {
     "name": "stdin",
     "output_type": "stream",
     "text": [
      "Please type a spam or ham message to check if our function predicts properly\n",
      " CRA has very important information for you! call 1-800-789-2345 now\n"
     ]
    }
   ],
   "source": [
    "# collect uer input\n",
    "user_input = input(\"Please type a spam or ham message to check if our function predicts properly\\n\")"
   ]
  },
  {
   "cell_type": "code",
   "execution_count": 53,
   "id": "b15a2cf2-f864-43d8-ad0b-1f1b2ddd93bc",
   "metadata": {},
   "outputs": [
    {
     "name": "stdout",
     "output_type": "stream",
     "text": [
      "**************** RESULTS ****************\n",
      "message is spam with 59.58% accuracy\n"
     ]
    }
   ],
   "source": [
    "processed_input = pre_process(user_input)\n",
    "predict(processed_input)"
   ]
  },
  {
   "cell_type": "code",
   "execution_count": null,
   "id": "e33da66d-5a5e-44d6-aea1-bbaa00610015",
   "metadata": {},
   "outputs": [],
   "source": []
  }
 ],
 "metadata": {
  "kernelspec": {
   "display_name": "Python 3",
   "language": "python",
   "name": "python3"
  },
  "language_info": {
   "codemirror_mode": {
    "name": "ipython",
    "version": 3
   },
   "file_extension": ".py",
   "mimetype": "text/x-python",
   "name": "python",
   "nbconvert_exporter": "python",
   "pygments_lexer": "ipython3",
   "version": "3.8.5"
  }
 },
 "nbformat": 4,
 "nbformat_minor": 5
}
